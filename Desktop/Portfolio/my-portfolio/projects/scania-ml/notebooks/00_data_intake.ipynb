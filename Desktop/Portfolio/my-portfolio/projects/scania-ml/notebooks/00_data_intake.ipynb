{
 "cells": [
  {
   "cell_type": "markdown",
   "id": "82a6b4e1",
   "metadata": {},
   "source": [
    "# 0) Imports & config de base"
   ]
  },
  {
   "cell_type": "code",
   "execution_count": 2,
   "id": "1dd583d7",
   "metadata": {},
   "outputs": [],
   "source": [
    "from pathlib import Path\n",
    "import pandas as pd\n",
    "import numpy as np"
   ]
  },
  {
   "cell_type": "code",
   "execution_count": 3,
   "id": "406a6a43",
   "metadata": {},
   "outputs": [],
   "source": [
    "pd.set_option(\"display.max_columns\", 120)\n",
    "pd.set_option(\"display.width\", 160)"
   ]
  },
  {
   "cell_type": "markdown",
   "id": "541383eb",
   "metadata": {},
   "source": [
    "# 1) Chemins projet"
   ]
  },
  {
   "cell_type": "code",
   "execution_count": 4,
   "id": "3a923dbb",
   "metadata": {},
   "outputs": [
    {
     "name": "stdout",
     "output_type": "stream",
     "text": [
      "PROJ   = C:\\Users\\chris\\Desktop\\Portfolio\\my-portfolio\\projects\\scania-ml\n",
      "DATA   = C:\\Users\\chris\\Desktop\\Portfolio\\my-portfolio\\projects\\scania-ml\\data\n",
      "INTERIM= C:\\Users\\chris\\Desktop\\Portfolio\\my-portfolio\\projects\\scania-ml\\data\\interim\n",
      "PROC   = C:\\Users\\chris\\Desktop\\Portfolio\\my-portfolio\\projects\\scania-ml\\data\\processed\n"
     ]
    }
   ],
   "source": [
    "if \"__file__\" in globals():\n",
    "    PROJ = Path(__file__).resolve().parents[1]  \n",
    "else:\n",
    "    PROJ = Path.cwd().resolve().parents[0]       \n",
    "\n",
    "DATA = PROJ / \"data\"              \n",
    "RAW  = DATA / \"raw\"\n",
    "OUT_INTERIM   = DATA / \"interim\"\n",
    "OUT_PROCESSED = DATA / \"processed\"\n",
    "\n",
    "for p in (OUT_INTERIM, OUT_PROCESSED):\n",
    "    p.mkdir(parents=True, exist_ok=True)\n",
    "\n",
    "print(\"PROJ   =\", PROJ)\n",
    "print(\"DATA   =\", DATA)\n",
    "print(\"INTERIM=\", OUT_INTERIM)\n",
    "print(\"PROC   =\", OUT_PROCESSED)"
   ]
  },
  {
   "cell_type": "markdown",
   "id": "5b0cdc60-7ef3-4ebe-8cf5-5c5488b9dcdd",
   "metadata": {},
   "source": [
    "# 2) Déclaration des fichiers attendus (split = train/validation/test)"
   ]
  },
  {
   "cell_type": "code",
   "execution_count": 5,
   "id": "91ebe5e2-f671-465f-83e4-ff1ce93f27f2",
   "metadata": {},
   "outputs": [],
   "source": [
    "FILES = {\n",
    "    \"train\": {\n",
    "        \"readouts\": DATA / \"train_operational_readouts.csv\",\n",
    "        \"specs\":    DATA / \"train_specifications.csv\",\n",
    "        \"labels\":   None,                         # pas de fichier direct, labels dérivés de tte\n",
    "        \"tte\":      DATA / \"train_tte.csv\",       # time-to-event\n",
    "    },\n",
    "    \"validation\": {\n",
    "        \"readouts\": DATA / \"validation_operational_readouts.csv\",\n",
    "        \"specs\":    DATA / \"validation_specifications.csv\",\n",
    "        \"labels\":   DATA / \"validation_labels.csv\",  # contient class_label\n",
    "        \"tte\":      None,                            # pas fourni\n",
    "    },\n",
    "    \"test\": {\n",
    "        \"readouts\": DATA / \"test_operational_readouts.csv\",\n",
    "        \"specs\":    DATA / \"test_specifications.csv\",\n",
    "        \"labels\":   DATA / \"test_labels.csv\",        \n",
    "        \"tte\":      None,\n",
    "    },\n",
    "}"
   ]
  },
  {
   "cell_type": "markdown",
   "id": "4e85200d-3c22-4c5b-b5c3-e9a7b3b242bd",
   "metadata": {},
   "source": [
    "# 3) Aide : lecture mémoire-friendly (infère un dtypes map sur un échantillon)"
   ]
  },
  {
   "cell_type": "code",
   "execution_count": 6,
   "id": "3cc0834f-10bb-4b16-a172-28029c644d83",
   "metadata": {},
   "outputs": [],
   "source": [
    "def infer_dtypes(csv_path, nrows=5000):\n",
    "    sample = pd.read_csv(csv_path, nrows=nrows)\n",
    "    dtypes = {}\n",
    "    for col in sample.columns:\n",
    "        if pd.api.types.is_float_dtype(sample[col]):\n",
    "            dtypes[col] = \"float32\"\n",
    "        elif pd.api.types.is_integer_dtype(sample[col]):\n",
    "            # ids -> int64 ok, mesures -> int32\n",
    "            dtypes[col] = \"int32\" if sample[col].max() < 2_147_483_647 else \"int64\"\n",
    "        else:\n",
    "            dtypes[col] = \"category\" if sample[col].nunique() / max(len(sample),1) < 0.5 else \"string\"\n",
    "    return dtypes\n",
    "\n",
    "def read_csv_optimized(csv_path, dtype_map=None):\n",
    "    if dtype_map is None:\n",
    "        dtype_map = infer_dtypes(csv_path)\n",
    "    return pd.read_csv(csv_path, dtype=dtype_map)"
   ]
  },
  {
   "cell_type": "markdown",
   "id": "bbb8c4b3-48bf-48d3-a123-02e32fd1426e",
   "metadata": {},
   "source": [
    "# 4) Fonctions de chargement/merging par split"
   ]
  },
  {
   "cell_type": "code",
   "execution_count": null,
   "id": "e8195d26-533e-4588-aac9-2b8d1461acdc",
   "metadata": {},
   "outputs": [],
   "source": []
  }
 ],
 "metadata": {
  "kernelspec": {
   "display_name": "Python 3 (ipykernel)",
   "language": "python",
   "name": "python3"
  },
  "language_info": {
   "codemirror_mode": {
    "name": "ipython",
    "version": 3
   },
   "file_extension": ".py",
   "mimetype": "text/x-python",
   "name": "python",
   "nbconvert_exporter": "python",
   "pygments_lexer": "ipython3",
   "version": "3.11.0rc2"
  }
 },
 "nbformat": 4,
 "nbformat_minor": 5
}
